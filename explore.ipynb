{
 "cells": [
  {
   "cell_type": "code",
   "execution_count": 14,
   "metadata": {},
   "outputs": [],
   "source": [
    "import urllib.parse\n",
    "import urllib.request\n",
    "import json"
   ]
  },
  {
   "cell_type": "code",
   "execution_count": 16,
   "metadata": {},
   "outputs": [],
   "source": [
    "url = 'https://sopfeu.qc.ca/wp-admin/admin-ajax.php'\n",
    "data = {\n",
    "    'type': 'activites',\n",
    "    'zone': 1,\n",
    "    'action': 'wplr_push_popup_stats',\n",
    "    'nonce': '738609c2ce',\n",
    "}"
   ]
  },
  {
   "cell_type": "code",
   "execution_count": 17,
   "metadata": {},
   "outputs": [],
   "source": [
    "data = urllib.parse.urlencode(data).encode('utf-8')\n",
    "req = urllib.request.Request(url, data=data, method='POST')"
   ]
  },
  {
   "cell_type": "code",
   "execution_count": 18,
   "metadata": {},
   "outputs": [],
   "source": [
    "with urllib.request.urlopen(req) as r:\n",
    "    jdata = json.loads(r.read().decode())"
   ]
  },
  {
   "cell_type": "code",
   "execution_count": 21,
   "metadata": {},
   "outputs": [
    {
     "data": {
      "text/plain": [
       "[{'no_feu': '209',\n",
       "  'condition_feu': '4 - Contenu',\n",
       "  'superficie': '1.9',\n",
       "  'mrc': '96 - Manicouagan',\n",
       "  'lat_dms': '50.5694',\n",
       "  'lon_dms': '-68.8897'},\n",
       " {'no_feu': '205',\n",
       "  'condition_feu': '1 - Nouveau',\n",
       "  'superficie': '3.5',\n",
       "  'mrc': '96 - Manicouagan',\n",
       "  'lat_dms': '49.9797',\n",
       "  'lon_dms': '-68.7164'},\n",
       " {'no_feu': '202',\n",
       "  'condition_feu': '4 - Contenu',\n",
       "  'superficie': '30',\n",
       "  'mrc': '35 - Mékinac',\n",
       "  'lat_dms': '47.3397',\n",
       "  'lon_dms': '-73.7817'},\n",
       " {'no_feu': '200',\n",
       "  'condition_feu': '5 - Maîtrisé',\n",
       "  'superficie': '15',\n",
       "  'mrc': '88 - Abitibi',\n",
       "  'lat_dms': '48.6472',\n",
       "  'lon_dms': '-77.6328'},\n",
       " {'no_feu': '196',\n",
       "  'condition_feu': '5 - Maîtrisé',\n",
       "  'superficie': '2.4000001',\n",
       "  'mrc': '91 - Le Domaine-du-Roy',\n",
       "  'lat_dms': '48.2961',\n",
       "  'lon_dms': '-72.0131'},\n",
       " {'no_feu': '179',\n",
       "  'condition_feu': '5 - Maîtrisé',\n",
       "  'superficie': '4.5',\n",
       "  'mrc': '90 - La Tuque',\n",
       "  'lat_dms': '47.2425',\n",
       "  'lon_dms': '-72.8322'},\n",
       " {'no_feu': '173',\n",
       "  'condition_feu': '5 - Maîtrisé',\n",
       "  'superficie': '31.4',\n",
       "  'mrc': '942 - Le Fjord-du-Saguenay',\n",
       "  'lat_dms': '48.1686',\n",
       "  'lon_dms': '-70.8722'},\n",
       " {'no_feu': '165',\n",
       "  'condition_feu': '4 - Contenu',\n",
       "  'superficie': '79.099998',\n",
       "  'mrc': '991 - Jamésie',\n",
       "  'lat_dms': '49.0486',\n",
       "  'lon_dms': '-75.8294'},\n",
       " {'no_feu': '163',\n",
       "  'condition_feu': '5 - Maîtrisé',\n",
       "  'superficie': '22.200001',\n",
       "  'mrc': '991 - Jamésie',\n",
       "  'lat_dms': '49.7342',\n",
       "  'lon_dms': '-74.5375'}]"
      ]
     },
     "execution_count": 21,
     "metadata": {},
     "output_type": "execute_result"
    }
   ],
   "source": [
    "jdata['data']['obj']"
   ]
  },
  {
   "cell_type": "code",
   "execution_count": null,
   "metadata": {},
   "outputs": [],
   "source": []
  }
 ],
 "metadata": {
  "kernelspec": {
   "display_name": "base",
   "language": "python",
   "name": "python3"
  },
  "language_info": {
   "codemirror_mode": {
    "name": "ipython",
    "version": 3
   },
   "file_extension": ".py",
   "mimetype": "text/x-python",
   "name": "python",
   "nbconvert_exporter": "python",
   "pygments_lexer": "ipython3",
   "version": "3.10.6"
  },
  "orig_nbformat": 4
 },
 "nbformat": 4,
 "nbformat_minor": 2
}
