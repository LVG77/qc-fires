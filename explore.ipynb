{
 "cells": [
  {
   "cell_type": "code",
   "execution_count": 1,
   "metadata": {},
   "outputs": [],
   "source": [
    "import re\n",
    "import urllib.parse\n",
    "import urllib.request\n",
    "import json"
   ]
  },
  {
   "cell_type": "code",
   "execution_count": 2,
   "metadata": {},
   "outputs": [],
   "source": [
    "url_main = 'https://sopfeu.qc.ca/'\n",
    "url = 'https://sopfeu.qc.ca/wp-admin/admin-ajax.php'\n",
    "data = {\n",
    "    'type': 'activites',\n",
    "    'zone': 1,\n",
    "    'action': 'wplr_push_popup_stats',\n",
    "    'nonce': '6be28e9dc5',\n",
    "}"
   ]
  },
  {
   "cell_type": "code",
   "execution_count": 6,
   "metadata": {},
   "outputs": [],
   "source": [
    "req_main = urllib.request.Request(url_main, method='GET')"
   ]
  },
  {
   "cell_type": "code",
   "execution_count": 7,
   "metadata": {},
   "outputs": [],
   "source": [
    "with urllib.request.urlopen(req_main) as r:\n",
    "    html = r.read().decode('utf-8')"
   ]
  },
  {
   "cell_type": "code",
   "execution_count": 8,
   "metadata": {},
   "outputs": [
    {
     "data": {
      "text/plain": [
       "'6be28e9dc5'"
      ]
     },
     "execution_count": 8,
     "metadata": {},
     "output_type": "execute_result"
    }
   ],
   "source": [
    "start_re = re.compile(r'ajaxNonce\":')\n",
    "end = ',\"adminAjax\"'\n",
    "start_re.split(html)[1].split(end)[0].strip('\\\"')"
   ]
  },
  {
   "cell_type": "code",
   "execution_count": 24,
   "metadata": {},
   "outputs": [],
   "source": [
    "data = urllib.parse.urlencode(data).encode('utf-8')\n",
    "req = urllib.request.Request(url, data=data, method='POST')"
   ]
  },
  {
   "cell_type": "code",
   "execution_count": 25,
   "metadata": {},
   "outputs": [],
   "source": [
    "r = urllib.request.urlopen(req)"
   ]
  },
  {
   "cell_type": "code",
   "execution_count": 26,
   "metadata": {},
   "outputs": [
    {
     "name": "stdout",
     "output_type": "stream",
     "text": [
      "b'{\"success\":true,\"data\":{\"obj\":[{\"no_feu\":\"216\",\"condition_feu\":\"4 - Contenu\",\"superficie\":\"21.1\",\"mrc\":\"991 - Jam\\\\u00e9sie\",\"lat_dms\":\"49.7808\",\"lon_dms\":\"-74.4792\"},{\"no_feu\":\"215\",\"condition_feu\":\"3 - Hors-Ctrl\",\"superficie\":\"534.09998\",\"mrc\":\"971 - Sept-Rivi\\\\u00e8res\",\"lat_dms\":\"50.3747\",\"lon_dms\":\"-66.3844\"},{\"no_feu\":\"213\",\"condition_feu\":\"3 - Hors-Ctrl\",\"superficie\":\"1393.6\",\"mrc\":\"991 - Jam\\\\u00e9sie\",\"lat_dms\":\"49.7425\",\"lon_dms\":\"-74.9861\"},{\"no_feu\":\"212\",\"condition_feu\":\"4 - Contenu\",\"superficie\":\"20\",\"mrc\":\"942 - Le Fjord-du-Saguenay\",\"lat_dms\":\"48.2592\",\"lon_dms\":\"-70.4203\"},{\"no_feu\":\"209\",\"condition_feu\":\"4 - Contenu\",\"superficie\":\"3.7\",\"mrc\":\"96 - Manicouagan\",\"lat_dms\":\"50.5739\",\"lon_dms\":\"-68.9153\"},{\"no_feu\":\"205\",\"condition_feu\":\"4 - Contenu\",\"superficie\":\"7\",\"mrc\":\"96 - Manicouagan\",\"lat_dms\":\"49.9797\",\"lon_dms\":\"-68.7164\"},{\"no_feu\":\"202\",\"condition_feu\":\"4 - Contenu\",\"superficie\":\"30\",\"mrc\":\"35 - M\\\\u00e9kinac\",\"lat_dms\":\"47.3397\",\"lon_dms\":\"-73.7817\"},{\"no_feu\":\"200\",\"condition_feu\":\"5 - Ma\\\\u00eetris\\\\u00e9\",\"superficie\":\"13.9\",\"mrc\":\"88 - Abitibi\",\"lat_dms\":\"48.6472\",\"lon_dms\":\"-77.6328\"},{\"no_feu\":\"196\",\"condition_feu\":\"5 - Ma\\\\u00eetris\\\\u00e9\",\"superficie\":\"2.4000001\",\"mrc\":\"91 - Le Domaine-du-Roy\",\"lat_dms\":\"48.2961\",\"lon_dms\":\"-72.0131\"},{\"no_feu\":\"173\",\"condition_feu\":\"5 - Ma\\\\u00eetris\\\\u00e9\",\"superficie\":\"31.4\",\"mrc\":\"942 - Le Fjord-du-Saguenay\",\"lat_dms\":\"48.1686\",\"lon_dms\":\"-70.8722\"},{\"no_feu\":\"165\",\"condition_feu\":\"4 - Contenu\",\"superficie\":\"79.099998\",\"mrc\":\"991 - Jam\\\\u00e9sie\",\"lat_dms\":\"49.0486\",\"lon_dms\":\"-75.8294\"}],\"html\":\"\\\\t<table width=\\\\\"100%\\\\\" border=\\\\\"0\\\\\" cellpadding=\\\\\"0\\\\\" cellspacing=\\\\\"0\\\\\" class=\\\\\"statistiques-table\\\\\">\\\\n\\\\t\\\\t<thead>\\\\n\\\\t\\\\t    <tr> \\\\n\\\\t\\\\t        <th>N\\\\u00b0 du feu<\\\\/th>\\\\n\\\\t\\\\t        <th>MRC<\\\\/th>\\\\n\\\\t\\\\t        <th>Condition<\\\\/th>\\\\n\\\\t\\\\t        <th>Superficie estim\\\\u00e9e (Hectares)<\\\\/th>\\\\n\\\\t\\\\t        <th>Latitude<\\\\/th>\\\\n\\\\t\\\\t        <th>Longitude<\\\\/th>\\\\n\\\\t\\\\t    <\\\\/tr>\\\\n\\\\t    <\\\\/thead>\\\\n\\\\t    <tbody>\\\\n\\\\t\\\\t    \\\\t\\\\t        <tr> \\\\n\\\\t\\\\t            <td>216<\\\\/td>\\\\n\\\\t\\\\t            <td>991 - Jam\\\\u00e9sie<\\\\/td>\\\\n\\\\t\\\\t            <td>4 - Contenu<\\\\/td>\\\\n                    <td>21,1<\\\\/td>\\\\n\\\\t\\\\t            <td>49.7808<\\\\/td>\\\\n\\\\t\\\\t            <td>-74.4792<\\\\/td>\\\\n\\\\t\\\\t        <\\\\/tr>\\\\n\\\\t\\\\t    \\\\t\\\\t        <tr> \\\\n\\\\t\\\\t            <td>215<\\\\/td>\\\\n\\\\t\\\\t            <td>971 - Sept-Rivi\\\\u00e8res<\\\\/td>\\\\n\\\\t\\\\t            <td>3 - Hors-Ctrl<\\\\/td>\\\\n                    <td>534,1<\\\\/td>\\\\n\\\\t\\\\t            <td>50.3747<\\\\/td>\\\\n\\\\t\\\\t            <td>-66.3844<\\\\/td>\\\\n\\\\t\\\\t        <\\\\/tr>\\\\n\\\\t\\\\t    \\\\t\\\\t        <tr> \\\\n\\\\t\\\\t            <td>213<\\\\/td>\\\\n\\\\t\\\\t            <td>991 - Jam\\\\u00e9sie<\\\\/td>\\\\n\\\\t\\\\t            <td>3 - Hors-Ctrl<\\\\/td>\\\\n                    <td>1 393,6<\\\\/td>\\\\n\\\\t\\\\t            <td>49.7425<\\\\/td>\\\\n\\\\t\\\\t            <td>-74.9861<\\\\/td>\\\\n\\\\t\\\\t        <\\\\/tr>\\\\n\\\\t\\\\t    \\\\t\\\\t        <tr> \\\\n\\\\t\\\\t            <td>212<\\\\/td>\\\\n\\\\t\\\\t            <td>942 - Le Fjord-du-Saguenay<\\\\/td>\\\\n\\\\t\\\\t            <td>4 - Contenu<\\\\/td>\\\\n                    <td>20,0<\\\\/td>\\\\n\\\\t\\\\t            <td>48.2592<\\\\/td>\\\\n\\\\t\\\\t            <td>-70.4203<\\\\/td>\\\\n\\\\t\\\\t        <\\\\/tr>\\\\n\\\\t\\\\t    \\\\t\\\\t        <tr> \\\\n\\\\t\\\\t            <td>209<\\\\/td>\\\\n\\\\t\\\\t            <td>96 - Manicouagan<\\\\/td>\\\\n\\\\t\\\\t            <td>4 - Contenu<\\\\/td>\\\\n                    <td>3,7<\\\\/td>\\\\n\\\\t\\\\t            <td>50.5739<\\\\/td>\\\\n\\\\t\\\\t            <td>-68.9153<\\\\/td>\\\\n\\\\t\\\\t        <\\\\/tr>\\\\n\\\\t\\\\t    \\\\t\\\\t        <tr> \\\\n\\\\t\\\\t            <td>205<\\\\/td>\\\\n\\\\t\\\\t            <td>96 - Manicouagan<\\\\/td>\\\\n\\\\t\\\\t            <td>4 - Contenu<\\\\/td>\\\\n                    <td>7,0<\\\\/td>\\\\n\\\\t\\\\t            <td>49.9797<\\\\/td>\\\\n\\\\t\\\\t            <td>-68.7164<\\\\/td>\\\\n\\\\t\\\\t        <\\\\/tr>\\\\n\\\\t\\\\t    \\\\t\\\\t        <tr> \\\\n\\\\t\\\\t            <td>202<\\\\/td>\\\\n\\\\t\\\\t            <td>35 - M\\\\u00e9kinac<\\\\/td>\\\\n\\\\t\\\\t            <td>4 - Contenu<\\\\/td>\\\\n                    <td>30,0<\\\\/td>\\\\n\\\\t\\\\t            <td>47.3397<\\\\/td>\\\\n\\\\t\\\\t            <td>-73.7817<\\\\/td>\\\\n\\\\t\\\\t        <\\\\/tr>\\\\n\\\\t\\\\t    \\\\t\\\\t        <tr> \\\\n\\\\t\\\\t            <td>200<\\\\/td>\\\\n\\\\t\\\\t            <td>88 - Abitibi<\\\\/td>\\\\n\\\\t\\\\t            <td>5 - Ma\\\\u00eetris\\\\u00e9<\\\\/td>\\\\n                    <td>13,9<\\\\/td>\\\\n\\\\t\\\\t            <td>48.6472<\\\\/td>\\\\n\\\\t\\\\t            <td>-77.6328<\\\\/td>\\\\n\\\\t\\\\t        <\\\\/tr>\\\\n\\\\t\\\\t    \\\\t\\\\t        <tr> \\\\n\\\\t\\\\t            <td>196<\\\\/td>\\\\n\\\\t\\\\t            <td>91 - Le Domaine-du-Roy<\\\\/td>\\\\n\\\\t\\\\t            <td>5 - Ma\\\\u00eetris\\\\u00e9<\\\\/td>\\\\n                    <td>2,4<\\\\/td>\\\\n\\\\t\\\\t            <td>48.2961<\\\\/td>\\\\n\\\\t\\\\t            <td>-72.0131<\\\\/td>\\\\n\\\\t\\\\t        <\\\\/tr>\\\\n\\\\t\\\\t    \\\\t\\\\t        <tr> \\\\n\\\\t\\\\t            <td>173<\\\\/td>\\\\n\\\\t\\\\t            <td>942 - Le Fjord-du-Saguenay<\\\\/td>\\\\n\\\\t\\\\t            <td>5 - Ma\\\\u00eetris\\\\u00e9<\\\\/td>\\\\n                    <td>31,4<\\\\/td>\\\\n\\\\t\\\\t            <td>48.1686<\\\\/td>\\\\n\\\\t\\\\t            <td>-70.8722<\\\\/td>\\\\n\\\\t\\\\t        <\\\\/tr>\\\\n\\\\t\\\\t    \\\\t\\\\t        <tr> \\\\n\\\\t\\\\t            <td>165<\\\\/td>\\\\n\\\\t\\\\t            <td>991 - Jam\\\\u00e9sie<\\\\/td>\\\\n\\\\t\\\\t            <td>4 - Contenu<\\\\/td>\\\\n                    <td>79,1<\\\\/td>\\\\n\\\\t\\\\t            <td>49.0486<\\\\/td>\\\\n\\\\t\\\\t            <td>-75.8294<\\\\/td>\\\\n\\\\t\\\\t        <\\\\/tr>\\\\n\\\\t\\\\t    \\\\t\\\\t<\\\\/tbody>\\\\n\\\\t<\\\\/table>\\\\n\"}}'\n"
     ]
    }
   ],
   "source": [
    "print(r.read())"
   ]
  },
  {
   "cell_type": "code",
   "execution_count": 27,
   "metadata": {},
   "outputs": [],
   "source": [
    "with urllib.request.urlopen(req) as r:\n",
    "    # print(r.read())\n",
    "    jdata = json.loads(r.read().decode())"
   ]
  },
  {
   "cell_type": "code",
   "execution_count": 28,
   "metadata": {},
   "outputs": [
    {
     "data": {
      "text/plain": [
       "[{'no_feu': '216',\n",
       "  'condition_feu': '4 - Contenu',\n",
       "  'superficie': '21.1',\n",
       "  'mrc': '991 - Jamésie',\n",
       "  'lat_dms': '49.7808',\n",
       "  'lon_dms': '-74.4792'},\n",
       " {'no_feu': '215',\n",
       "  'condition_feu': '3 - Hors-Ctrl',\n",
       "  'superficie': '534.09998',\n",
       "  'mrc': '971 - Sept-Rivières',\n",
       "  'lat_dms': '50.3747',\n",
       "  'lon_dms': '-66.3844'},\n",
       " {'no_feu': '213',\n",
       "  'condition_feu': '3 - Hors-Ctrl',\n",
       "  'superficie': '1393.6',\n",
       "  'mrc': '991 - Jamésie',\n",
       "  'lat_dms': '49.7425',\n",
       "  'lon_dms': '-74.9861'},\n",
       " {'no_feu': '212',\n",
       "  'condition_feu': '4 - Contenu',\n",
       "  'superficie': '20',\n",
       "  'mrc': '942 - Le Fjord-du-Saguenay',\n",
       "  'lat_dms': '48.2592',\n",
       "  'lon_dms': '-70.4203'},\n",
       " {'no_feu': '209',\n",
       "  'condition_feu': '4 - Contenu',\n",
       "  'superficie': '3.7',\n",
       "  'mrc': '96 - Manicouagan',\n",
       "  'lat_dms': '50.5739',\n",
       "  'lon_dms': '-68.9153'},\n",
       " {'no_feu': '205',\n",
       "  'condition_feu': '4 - Contenu',\n",
       "  'superficie': '7',\n",
       "  'mrc': '96 - Manicouagan',\n",
       "  'lat_dms': '49.9797',\n",
       "  'lon_dms': '-68.7164'},\n",
       " {'no_feu': '202',\n",
       "  'condition_feu': '4 - Contenu',\n",
       "  'superficie': '30',\n",
       "  'mrc': '35 - Mékinac',\n",
       "  'lat_dms': '47.3397',\n",
       "  'lon_dms': '-73.7817'},\n",
       " {'no_feu': '200',\n",
       "  'condition_feu': '5 - Maîtrisé',\n",
       "  'superficie': '13.9',\n",
       "  'mrc': '88 - Abitibi',\n",
       "  'lat_dms': '48.6472',\n",
       "  'lon_dms': '-77.6328'},\n",
       " {'no_feu': '196',\n",
       "  'condition_feu': '5 - Maîtrisé',\n",
       "  'superficie': '2.4000001',\n",
       "  'mrc': '91 - Le Domaine-du-Roy',\n",
       "  'lat_dms': '48.2961',\n",
       "  'lon_dms': '-72.0131'},\n",
       " {'no_feu': '173',\n",
       "  'condition_feu': '5 - Maîtrisé',\n",
       "  'superficie': '31.4',\n",
       "  'mrc': '942 - Le Fjord-du-Saguenay',\n",
       "  'lat_dms': '48.1686',\n",
       "  'lon_dms': '-70.8722'},\n",
       " {'no_feu': '165',\n",
       "  'condition_feu': '4 - Contenu',\n",
       "  'superficie': '79.099998',\n",
       "  'mrc': '991 - Jamésie',\n",
       "  'lat_dms': '49.0486',\n",
       "  'lon_dms': '-75.8294'}]"
      ]
     },
     "execution_count": 28,
     "metadata": {},
     "output_type": "execute_result"
    }
   ],
   "source": [
    "jdata['data']['obj']"
   ]
  },
  {
   "cell_type": "code",
   "execution_count": null,
   "metadata": {},
   "outputs": [],
   "source": []
  }
 ],
 "metadata": {
  "kernelspec": {
   "display_name": "base",
   "language": "python",
   "name": "python3"
  },
  "language_info": {
   "codemirror_mode": {
    "name": "ipython",
    "version": 3
   },
   "file_extension": ".py",
   "mimetype": "text/x-python",
   "name": "python",
   "nbconvert_exporter": "python",
   "pygments_lexer": "ipython3",
   "version": "3.10.6"
  },
  "orig_nbformat": 4
 },
 "nbformat": 4,
 "nbformat_minor": 2
}
